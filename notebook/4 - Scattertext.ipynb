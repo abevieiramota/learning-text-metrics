{
 "cells": [
  {
   "cell_type": "code",
   "execution_count": 1,
   "metadata": {},
   "outputs": [
    {
     "name": "stdout",
     "output_type": "stream",
     "text": [
      "dom_casmurro.txt  perto_do_coracao_selvagem.txt\r\n"
     ]
    }
   ],
   "source": [
    "!ls ../data/"
   ]
  },
  {
   "cell_type": "code",
   "execution_count": 2,
   "metadata": {},
   "outputs": [],
   "source": [
    "import codecs \n",
    "\n",
    "with codecs.open('../data/perto_do_coracao_selvagem.txt', 'r', 'utf-8') as f:\n",
    "    clarice = f.read()\n",
    "    \n",
    "with codecs.open('../data/dom_casmurro.txt', 'r', 'utf-8') as f:\n",
    "    machado = f.read()"
   ]
  },
  {
   "cell_type": "code",
   "execution_count": 17,
   "metadata": {},
   "outputs": [],
   "source": [
    "machado_doc = textacy.Doc(machado, lang=\"pt\")\n",
    "machado_df = pd.DataFrame({'text': [str(s) for s in machado_doc.sents], 'author': 'Machado'})"
   ]
  },
  {
   "cell_type": "code",
   "execution_count": 3,
   "metadata": {},
   "outputs": [],
   "source": [
    "import textacy\n",
    "\n",
    "clarice_doc = textacy.Doc(clarice, lang=\"pt\")\n",
    "machado_doc = textacy.Doc(machado, lang=\"pt\")"
   ]
  },
  {
   "cell_type": "code",
   "execution_count": 15,
   "metadata": {},
   "outputs": [],
   "source": [
    "import pandas as pd\n",
    "\n",
    "clarice_df = pd.DataFrame({'text': [str(s) for s in clarice_doc.sents], 'author': 'Clarice'})\n",
    "machado_df = pd.DataFrame({'text': [str(s) for s in machado_doc.sents], 'author': 'Machado'})\n",
    "\n",
    "df = pd.concat([clarice_df, machado_df], axis=0)"
   ]
  },
  {
   "cell_type": "code",
   "execution_count": 20,
   "metadata": {},
   "outputs": [
    {
     "data": {
      "text/plain": [
       "Machado    5889\n",
       "Clarice    4469\n",
       "Name: author, dtype: int64"
      ]
     },
     "execution_count": 20,
     "metadata": {},
     "output_type": "execute_result"
    }
   ],
   "source": [
    "df.author.value_counts()"
   ]
  },
  {
   "cell_type": "code",
   "execution_count": 21,
   "metadata": {},
   "outputs": [],
   "source": [
    "import spacy\n",
    "import scattertext as st\n",
    "\n",
    "nlp = spacy.load(\"pt\")\n",
    "corpus = st.CorpusFromPandas(df,\n",
    "                             category_col=\"author\",\n",
    "                             text_col=\"text\",\n",
    "                             nlp=nlp).build()"
   ]
  },
  {
   "cell_type": "code",
   "execution_count": 22,
   "metadata": {},
   "outputs": [
    {
     "name": "stdout",
     "output_type": "stream",
     "text": [
      "['capitu', 'lhe', 'olhos', 'joana', 'depois', 'mesmo', 'coisa', 'estava', 'tinha', 'minha']\n"
     ]
    }
   ],
   "source": [
    "print(list(corpus.get_scaled_f_scores_vs_background().index[:10]))"
   ]
  },
  {
   "cell_type": "code",
   "execution_count": 24,
   "metadata": {},
   "outputs": [
    {
     "data": {
      "text/plain": [
       "Index(['otávio', 'lídia', 'joana', 'de joana', 'tia', 'subitamente', 'num',\n",
       "       'de novo', 'corpo', 'leve'],\n",
       "      dtype='object', name='term')"
      ]
     },
     "execution_count": 24,
     "metadata": {},
     "output_type": "execute_result"
    }
   ],
   "source": [
    "term_freq_df = corpus.get_term_freq_df()\n",
    "\n",
    "term_freq_df['Clarice Score'] = corpus.get_scaled_f_scores('Clarice')\n",
    "\n",
    "term_freq_df.sort_values(by=\"Clarice Score\", ascending=False).index[:10]"
   ]
  },
  {
   "cell_type": "code",
   "execution_count": 25,
   "metadata": {},
   "outputs": [
    {
     "data": {
      "text/plain": [
       "Index(['capitu', 'capítulo', 'minha mãe', 'josé', 'josé dias', 'escobar',\n",
       "       'seminário', 'idéia', 'de capitu', 'padre'],\n",
       "      dtype='object', name='term')"
      ]
     },
     "execution_count": 25,
     "metadata": {},
     "output_type": "execute_result"
    }
   ],
   "source": [
    "term_freq_df['Machado Score'] = corpus.get_scaled_f_scores('Machado')\n",
    "\n",
    "term_freq_df.sort_values(by=\"Machado Score\", ascending=False).index[:10]"
   ]
  },
  {
   "cell_type": "code",
   "execution_count": 27,
   "metadata": {},
   "outputs": [],
   "source": [
    "html = st.produce_scattertext_explorer(corpus,\n",
    "                                       category=\"Clarice\",\n",
    "                                       category_name=\"Clarice\",\n",
    "                                       not_category_name=\"Machado\",\n",
    "                                       width_in_pixels=1000,\n",
    "                                       metadata=df[\"author\"])\n",
    "\n",
    "with open('Clarice_Machado_Visualization.html', \"wb\") as f:\n",
    "    \n",
    "    f.write(html.encode(\"utf-8\"))"
   ]
  },
  {
   "cell_type": "code",
   "execution_count": null,
   "metadata": {},
   "outputs": [],
   "source": []
  }
 ],
 "metadata": {
  "kernelspec": {
   "display_name": "Python 3",
   "language": "python",
   "name": "python3"
  },
  "language_info": {
   "codemirror_mode": {
    "name": "ipython",
    "version": 3
   },
   "file_extension": ".py",
   "mimetype": "text/x-python",
   "name": "python",
   "nbconvert_exporter": "python",
   "pygments_lexer": "ipython3",
   "version": "3.6.5"
  }
 },
 "nbformat": 4,
 "nbformat_minor": 2
}
