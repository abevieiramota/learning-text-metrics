{
 "cells": [
  {
   "cell_type": "code",
   "execution_count": 2,
   "metadata": {},
   "outputs": [],
   "source": [
    "# source: https://www2.uol.com.br/sciam/noticias/cientistas_implantam_cerebros_humanos_em_miniatura_em_cranios_de_camundongos.html\n",
    "s1 = \"\"\"Mas a verossimilhança dos organoides cerebrais humanos é limitada: quando crescem mais do que alguns milímetros, o oxigênio e os nutrientes não chegam às células mais internas. “Em nossas mãos, os organoides pararam de crescer após mais ou menos cinco semanas” diz Fred Gage, que liderou o estudo. “É um problema ligado ao tamanho,  não à idade. Algumas células morrem mesmo no pico de criação do organoide, a partir da décima semana. E isso piora com o tempo. Esse é um forte obstáculo para estudos de longo prazo”, se o objetivo do estudo for acompanhar o desenvolvimento cerebral por mais do que um ou dois trimestres pré-natais, o estágio em que atualmente os organoides começam a murchar. Mas, ao serem implantados no cérebro do camundongo, os organoides recebem dele tudo o que precisam para crescer e se desenvolver.\"\"\"\n",
    "# source: http://chc.org.br/pequenos-notaveis/\n",
    "s2 = \"\"\"Esses peixes são praticamente invisíveis aos nossos olhos por serem bastante pequenos, com poucos centímetros de comprimento. Por isso, encontrar um deles em um recife de coral é praticamente achar uma agulha em um palheiro! Com um tamanho tão pequeno e vivendo em um ambiente repleto de predadores, a maioria dos peixes criptobênticos vive em esconderijos: em pequenas cavidades dos recifes, dentro de esponjas, entre os ramos de lírios e ouriços-do-mar, corais, anêmonas… Opções de esconderijo não faltam quando se é tão pequeno!\"\"\""
   ]
  },
  {
   "cell_type": "code",
   "execution_count": 29,
   "metadata": {},
   "outputs": [
    {
     "name": "stdout",
     "output_type": "stream",
     "text": [
      "Mas a verossimilhança dos organoides cerebrais humanos é limitada: quando crescem mais do que alguns milímetros, o oxigênio e os nutrientes não chegam às células mais internas. “Em nossas mãos, os organoides pararam de crescer após mais ou menos cinco semanas” diz Fred Gage, que liderou o estudo. “É um problema ligado ao tamanho,  não à idade. Algumas células morrem mesmo no pico de criação do organoide, a partir da décima semana. E isso piora com o tempo. Esse é um forte obstáculo para estudos de longo prazo”, se o objetivo do estudo for acompanhar o desenvolvimento cerebral por mais do que um ou dois trimestres pré-natais, o estágio em que atualmente os organoides começam a murchar. Mas, ao serem implantados no cérebro do camundongo, os organoides recebem dele tudo o que precisam para crescer e se desenvolver.\n"
     ]
    }
   ],
   "source": [
    "print(s1)"
   ]
  },
  {
   "cell_type": "code",
   "execution_count": 30,
   "metadata": {},
   "outputs": [
    {
     "name": "stdout",
     "output_type": "stream",
     "text": [
      "Esses peixes são praticamente invisíveis aos nossos olhos por serem bastante pequenos, com poucos centímetros de comprimento. Por isso, encontrar um deles em um recife de coral é praticamente achar uma agulha em um palheiro! Com um tamanho tão pequeno e vivendo em um ambiente repleto de predadores, a maioria dos peixes criptobênticos vive em esconderijos: em pequenas cavidades dos recifes, dentro de esponjas, entre os ramos de lírios e ouriços-do-mar, corais, anêmonas… Opções de esconderijo não faltam quando se é tão pequeno!\n"
     ]
    }
   ],
   "source": [
    "print(s2)"
   ]
  },
  {
   "cell_type": "code",
   "execution_count": 18,
   "metadata": {},
   "outputs": [],
   "source": [
    "import textacy\n",
    "import pandas as pd\n",
    "\n",
    "doc1 = textacy.Doc(s1, lang=\"pt\")\n",
    "doc2 = textacy.Doc(s2, lang=\"pt\")"
   ]
  },
  {
   "cell_type": "code",
   "execution_count": 6,
   "metadata": {},
   "outputs": [],
   "source": [
    "stats_1 = textacy.text_stats.TextStats(doc1)\n",
    "stats_2 = textacy.text_stats.TextStats(doc2)"
   ]
  },
  {
   "cell_type": "code",
   "execution_count": 43,
   "metadata": {},
   "outputs": [],
   "source": [
    "import itertools\n",
    "from collections import Counter\n",
    "\n",
    "c1 = Counter([tag for (w, tag) in itertools.chain.from_iterable(doc1.pos_tagged_text)])\n",
    "c2 = Counter([tag for (w, tag) in itertools.chain.from_iterable(doc2.pos_tagged_text)])"
   ]
  },
  {
   "cell_type": "code",
   "execution_count": 50,
   "metadata": {},
   "outputs": [
    {
     "data": {
      "text/html": [
       "<div>\n",
       "<style scoped>\n",
       "    .dataframe tbody tr th:only-of-type {\n",
       "        vertical-align: middle;\n",
       "    }\n",
       "\n",
       "    .dataframe tbody tr th {\n",
       "        vertical-align: top;\n",
       "    }\n",
       "\n",
       "    .dataframe thead th {\n",
       "        text-align: right;\n",
       "    }\n",
       "</style>\n",
       "<table border=\"1\" class=\"dataframe\">\n",
       "  <thead>\n",
       "    <tr style=\"text-align: right;\">\n",
       "      <th></th>\n",
       "      <th>scientific</th>\n",
       "      <th>child</th>\n",
       "    </tr>\n",
       "  </thead>\n",
       "  <tbody>\n",
       "    <tr>\n",
       "      <th>ADJ</th>\n",
       "      <td>9.0</td>\n",
       "      <td>9.0</td>\n",
       "    </tr>\n",
       "    <tr>\n",
       "      <th>ADP</th>\n",
       "      <td>23.0</td>\n",
       "      <td>19.0</td>\n",
       "    </tr>\n",
       "    <tr>\n",
       "      <th>ADV</th>\n",
       "      <td>12.0</td>\n",
       "      <td>8.0</td>\n",
       "    </tr>\n",
       "    <tr>\n",
       "      <th>AUX</th>\n",
       "      <td>2.0</td>\n",
       "      <td>2.0</td>\n",
       "    </tr>\n",
       "    <tr>\n",
       "      <th>CCONJ</th>\n",
       "      <td>3.0</td>\n",
       "      <td>2.0</td>\n",
       "    </tr>\n",
       "    <tr>\n",
       "      <th>DET</th>\n",
       "      <td>21.0</td>\n",
       "      <td>11.0</td>\n",
       "    </tr>\n",
       "    <tr>\n",
       "      <th>NOUN</th>\n",
       "      <td>28.0</td>\n",
       "      <td>21.0</td>\n",
       "    </tr>\n",
       "    <tr>\n",
       "      <th>NUM</th>\n",
       "      <td>3.0</td>\n",
       "      <td>1.0</td>\n",
       "    </tr>\n",
       "    <tr>\n",
       "      <th>PRON</th>\n",
       "      <td>8.0</td>\n",
       "      <td>3.0</td>\n",
       "    </tr>\n",
       "    <tr>\n",
       "      <th>PROPN</th>\n",
       "      <td>2.0</td>\n",
       "      <td>0.0</td>\n",
       "    </tr>\n",
       "    <tr>\n",
       "      <th>PUNCT</th>\n",
       "      <td>25.0</td>\n",
       "      <td>14.0</td>\n",
       "    </tr>\n",
       "    <tr>\n",
       "      <th>SCONJ</th>\n",
       "      <td>1.0</td>\n",
       "      <td>0.0</td>\n",
       "    </tr>\n",
       "    <tr>\n",
       "      <th>SPACE</th>\n",
       "      <td>1.0</td>\n",
       "      <td>0.0</td>\n",
       "    </tr>\n",
       "    <tr>\n",
       "      <th>SYM</th>\n",
       "      <td>5.0</td>\n",
       "      <td>3.0</td>\n",
       "    </tr>\n",
       "    <tr>\n",
       "      <th>VERB</th>\n",
       "      <td>23.0</td>\n",
       "      <td>8.0</td>\n",
       "    </tr>\n",
       "    <tr>\n",
       "      <th>n_chars</th>\n",
       "      <td>663.0</td>\n",
       "      <td>435.0</td>\n",
       "    </tr>\n",
       "    <tr>\n",
       "      <th>n_long_words</th>\n",
       "      <td>42.0</td>\n",
       "      <td>26.0</td>\n",
       "    </tr>\n",
       "    <tr>\n",
       "      <th>n_monosyllable_words</th>\n",
       "      <td>72.0</td>\n",
       "      <td>42.0</td>\n",
       "    </tr>\n",
       "    <tr>\n",
       "      <th>n_polysyllable_words</th>\n",
       "      <td>44.0</td>\n",
       "      <td>28.0</td>\n",
       "    </tr>\n",
       "    <tr>\n",
       "      <th>n_sents</th>\n",
       "      <td>8.0</td>\n",
       "      <td>5.0</td>\n",
       "    </tr>\n",
       "    <tr>\n",
       "      <th>n_syllables</th>\n",
       "      <td>278.0</td>\n",
       "      <td>176.0</td>\n",
       "    </tr>\n",
       "    <tr>\n",
       "      <th>n_unique_words</th>\n",
       "      <td>95.0</td>\n",
       "      <td>63.0</td>\n",
       "    </tr>\n",
       "    <tr>\n",
       "      <th>n_words</th>\n",
       "      <td>143.0</td>\n",
       "      <td>87.0</td>\n",
       "    </tr>\n",
       "  </tbody>\n",
       "</table>\n",
       "</div>"
      ],
      "text/plain": [
       "                      scientific  child\n",
       "ADJ                          9.0    9.0\n",
       "ADP                         23.0   19.0\n",
       "ADV                         12.0    8.0\n",
       "AUX                          2.0    2.0\n",
       "CCONJ                        3.0    2.0\n",
       "DET                         21.0   11.0\n",
       "NOUN                        28.0   21.0\n",
       "NUM                          3.0    1.0\n",
       "PRON                         8.0    3.0\n",
       "PROPN                        2.0    0.0\n",
       "PUNCT                       25.0   14.0\n",
       "SCONJ                        1.0    0.0\n",
       "SPACE                        1.0    0.0\n",
       "SYM                          5.0    3.0\n",
       "VERB                        23.0    8.0\n",
       "n_chars                    663.0  435.0\n",
       "n_long_words                42.0   26.0\n",
       "n_monosyllable_words        72.0   42.0\n",
       "n_polysyllable_words        44.0   28.0\n",
       "n_sents                      8.0    5.0\n",
       "n_syllables                278.0  176.0\n",
       "n_unique_words              95.0   63.0\n",
       "n_words                    143.0   87.0"
      ]
     },
     "execution_count": 50,
     "metadata": {},
     "output_type": "execute_result"
    }
   ],
   "source": [
    "df = pd.DataFrame([dict(stats_1.basic_counts, **c1), dict(stats_2.basic_counts, **c2)], index=['scientific', 'child'])\n",
    "df.T.fillna(0)"
   ]
  }
 ],
 "metadata": {
  "kernelspec": {
   "display_name": "Python 3",
   "language": "python",
   "name": "python3"
  },
  "language_info": {
   "codemirror_mode": {
    "name": "ipython",
    "version": 3
   },
   "file_extension": ".py",
   "mimetype": "text/x-python",
   "name": "python",
   "nbconvert_exporter": "python",
   "pygments_lexer": "ipython3",
   "version": "3.6.5"
  }
 },
 "nbformat": 4,
 "nbformat_minor": 2
}
